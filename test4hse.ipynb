{
 "cells": [
  {
   "cell_type": "markdown",
   "metadata": {},
   "source": [
    "Воспользуемся готовой библиотекой nltk и сформируем словарь стоп-слов"
   ]
  },
  {
   "cell_type": "code",
   "execution_count": 29,
   "metadata": {},
   "outputs": [],
   "source": [
    "def prepare_stop_words():\n",
    "    import nltk\n",
    "    nltk.download('stopwords')\n",
    "    stop_words = nltk.corpus.stopwords.words('russian')\n",
    "    stop_words.extend(['что', 'это', 'так', 'вот', 'быть', 'как', 'в', '—', '-','к', 'на', 'скажем', 'допустим', 'например', 'самый','который','которая','которые','свой','своя','свои','наш'])\n",
    "    return stop_words"
   ]
  },
  {
   "cell_type": "markdown",
   "metadata": {},
   "source": [
    "функция для удаления из исходного текста символов пунктуации и формирование списка слов"
   ]
  },
  {
   "cell_type": "code",
   "execution_count": 30,
   "metadata": {},
   "outputs": [],
   "source": [
    "def prepare_article(text:str,sw:list):\n",
    "    l=list(filter(None,re.split('\\s+|,|\\.|\\(|\\)|\\–\\_\\?\\!\\-\\d*\\t\\\"\\'',str(text).lower())))\n",
    "    return list(itertools.filterfalse(sw.__contains__, iter(l)))\n",
    "    "
   ]
  },
  {
   "cell_type": "markdown",
   "metadata": {},
   "source": [
    "Здесь формируется словарь, где ключ - слово из текста приведенное в нормальную форму,\n",
    "а значение - число вхождений этого слова в тексте. Возвращает список пар ключ-значение, отсортированный по значению."
   ]
  },
  {
   "cell_type": "code",
   "execution_count": 31,
   "metadata": {},
   "outputs": [],
   "source": [
    "def main():\n",
    "    FILE_NAME=\"test.txt\"\n",
    "    with open(FILE_NAME, encoding='utf-8') as file:\n",
    "        for line in file:\n",
    "            contents = file.read()\n",
    "    morph = pymorphy2.MorphAnalyzer()\n",
    "    d=dict()\n",
    "    for x in prepare_article(contents,prepare_stop_words()):\n",
    "        if morph.parse(x)[0].normal_form in d:\n",
    "            d[morph.parse(x)[0].normal_form]=d[morph.parse(x)[0].normal_form]+1\n",
    "        else:\n",
    "            d[morph.parse(x)[0].normal_form]=1\n",
    "    return sorted(d.items(), key=itemgetter(1))"
   ]
  },
  {
   "cell_type": "markdown",
   "metadata": {},
   "source": [
    "Считаем, что ключевые слова - это слова с наибольшим числом вхождений"
   ]
  },
  {
   "cell_type": "code",
   "execution_count": 32,
   "metadata": {},
   "outputs": [
    {
     "name": "stderr",
     "output_type": "stream",
     "text": [
      "[nltk_data] Downloading package stopwords to\n",
      "[nltk_data]     C:\\Users\\Саша\\AppData\\Roaming\\nltk_data...\n",
      "[nltk_data]   Package stopwords is already up-to-date!\n"
     ]
    }
   ],
   "source": [
    "if __name__=='__main__':\n",
    "    import pymorphy2,re,itertools\n",
    "    from operator import itemgetter\n",
    "    z = main()"
   ]
  },
  {
   "cell_type": "code",
   "execution_count": 33,
   "metadata": {},
   "outputs": [
    {
     "name": "stdout",
     "output_type": "stream",
     "text": [
      "Выделено несколько кандидатов на роль ключевых слов [('жизнь', 295), ('мир', 326), ('религия', 330), ('свой', 338), ('метр', 497)]\n"
     ]
    }
   ],
   "source": [
    "print('Выделено несколько кандидатов на роль ключевых слов',z[-6:-1])"
   ]
  },
  {
   "cell_type": "code",
   "execution_count": null,
   "metadata": {},
   "outputs": [],
   "source": []
  }
 ],
 "metadata": {
  "kernelspec": {
   "display_name": "Python 3",
   "language": "python",
   "name": "python3"
  },
  "language_info": {
   "codemirror_mode": {
    "name": "ipython",
    "version": 3
   },
   "file_extension": ".py",
   "mimetype": "text/x-python",
   "name": "python",
   "nbconvert_exporter": "python",
   "pygments_lexer": "ipython3",
   "version": "3.7.1"
  }
 },
 "nbformat": 4,
 "nbformat_minor": 2
}
